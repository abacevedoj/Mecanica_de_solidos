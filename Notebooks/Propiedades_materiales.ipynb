{
 "cells": [
  {
   "cell_type": "markdown",
   "metadata": {},
   "source": [
    "Contenido bajo licencia Creative Commons BY-NC-ND. El contenido de este Notebook es creado por Ana Beatriz Acevedo Jaramillo, Daniela González González y Rubén Dario Gómez Arango 2021. Este material es parte del curso Mecánica de Sólidos del programa de Ingeniería Civil de la Universidad EAFIT."
   ]
  },
  {
   "cell_type": "markdown",
   "metadata": {},
   "source": [
    "<img src= \n",
    "\"http://www.eafit.edu.co/biblioteca/PublishingImages/logos/eafit_apa.jpg\" \n",
    "         alt=\"GeeksforGeeks logo\" \n",
    "         align=\"left\">"
   ]
  },
  {
   "cell_type": "markdown",
   "metadata": {},
   "source": [
    "## Importación de librerias"
   ]
  },
  {
   "cell_type": "code",
   "execution_count": 1,
   "metadata": {},
   "outputs": [],
   "source": [
    "import numpy as np\n",
    "import matplotlib.pyplot as plt"
   ]
  },
  {
   "cell_type": "markdown",
   "metadata": {},
   "source": [
    "# *Propiedades de los materiales*"
   ]
  },
  {
   "cell_type": "markdown",
   "metadata": {},
   "source": [
    "<p style='text-align: justify;'> Los materiales en ingenería se caracterizan según su capacidad para resistir fuerzas y su desplazamiento al aplicarles dicha fuerza.\n",
    "    \n",
    "Consideremos, por ejemplo, una barra de acero sometida a una carga.\n",
    "</p>"
   ]
  },
  {
   "cell_type": "markdown",
   "metadata": {},
   "source": [
    "![barra](imagenes/barra.png)"
   ]
  },
  {
   "cell_type": "markdown",
   "metadata": {},
   "source": [
    "## Propiedades de la barra"
   ]
  },
  {
   "cell_type": "markdown",
   "metadata": {},
   "source": [
    "La barra la vamos a caracterizar según su longitud (L) y el área de la sección transversal (A).\n",
    "\n",
    "Ingresa los datos: \n",
    "<div class=\"alert alert-warning\">\n",
    "Recuerda que las unidades deben ser consistentes. Es decir, no debes mezclar unidades.\n",
    "    \n",
    "*En este Notebook vamos a trabajar las distancias en mm y las fuerzas en kN*\n",
    "</div>"
   ]
  },
  {
   "cell_type": "code",
   "execution_count": null,
   "metadata": {},
   "outputs": [],
   "source": [
    "L = 1000 # Longitud en mm\n",
    "A = 59 # Área en mm^2"
   ]
  },
  {
   "cell_type": "markdown",
   "metadata": {},
   "source": [
    "## Carga aplicada"
   ]
  },
  {
   "cell_type": "markdown",
   "metadata": {},
   "source": [
    "Llamamos P a la carga aplicada.\n",
    "\n",
    "Ingresa el valor: "
   ]
  },
  {
   "cell_type": "code",
   "execution_count": null,
   "metadata": {},
   "outputs": [],
   "source": [
    "P = 50 # Carga en kN"
   ]
  },
  {
   "cell_type": "markdown",
   "metadata": {},
   "source": [
    "<div class=\"alert alert-warning\">\n",
    "¿Cuánto es una carga de 1 kN?\n",
    "    \n",
    "Recuerda que el peso es el producto de la masa por la gravedad.\n",
    "    \n",
    "La constante de gravedad *g* es de 9.80 m/s2. Si aproximamos la gravedad a 10 m/s 2 y considermos una masa de 100 g (por ejemplo, una manzana), entonces su peso será:\n",
    "    \n",
    "100 g x 10 m/s2 = 1000 g*m/s2 = 1 kg*m/s2, es decir ¡1 kN!\n",
    "    \n",
    "Una manzana pesa un 1 kN.\n",
    "    \n",
    "¿Crees que una carga de 1 kN es grande?\n",
    "</div>"
   ]
  },
  {
   "cell_type": "markdown",
   "metadata": {},
   "source": [
    "![Newton](imagenes/Newton.jpg)"
   ]
  },
  {
   "cell_type": "markdown",
   "metadata": {},
   "source": [
    "## Desplazamiento de la barra"
   ]
  },
  {
   "cell_type": "markdown",
   "metadata": {},
   "source": [
    "El desplazamiento está dado por la ecuación:\n",
    "D = P*L/A*E\n",
    "\n",
    "Donde E es el módulo de elasticidad del material y tiene unidades de esfuerzo (fuerza/área).\n",
    "\n",
    "Ingresa el módulo de elásticidad del acero. Búscalo en la tabla \"Modulos de elasticidad\" que se encuentra en Interactiva Virtual. \n",
    "\n",
    "<div class=\"alert alert-warning\">\n",
    "Recuerda que vamos a trabjar en unidades de longitud en mm y unidades de fuerza en kN, así que debes transformar el valor del módulo de elasticidad a kN/mm2.\n",
    "</div>"
   ]
  },
  {
   "cell_type": "code",
   "execution_count": null,
   "metadata": {},
   "outputs": [],
   "source": [
    "E = 200 # KPa (kN/mm2)"
   ]
  },
  {
   "cell_type": "markdown",
   "metadata": {},
   "source": [
    "Ahora sí calculemos el desplazamiento (D)"
   ]
  },
  {
   "cell_type": "code",
   "execution_count": null,
   "metadata": {},
   "outputs": [],
   "source": [
    "D = P*L/(A*E) #en mm\n",
    "print(D)"
   ]
  },
  {
   "cell_type": "markdown",
   "metadata": {},
   "source": [
    "## Ahora pasemos de *fuerzas y desplazamientos* a *esfuerzos y deformaciones unitarias*"
   ]
  },
  {
   "cell_type": "markdown",
   "metadata": {},
   "source": [
    "El esfuerzo es la relación enter la fuerza (P) y el área (A).\n",
    "\n",
    "La deformación unitaria es la relación entre el desplazamiento (D) y la longitud (L).\n",
    "\n",
    "El esfuerzo (sigma) y la deformación unitaria (epsilon) para la barra que consideramos son:"
   ]
  },
  {
   "cell_type": "code",
   "execution_count": null,
   "metadata": {},
   "outputs": [],
   "source": [
    "sigma = P/A # kN/mm2\n",
    "print(sigma)"
   ]
  },
  {
   "cell_type": "code",
   "execution_count": null,
   "metadata": {},
   "outputs": [],
   "source": [
    "epsilon = D/L # mm/mm\n",
    "print(epsilon)"
   ]
  },
  {
   "cell_type": "markdown",
   "metadata": {},
   "source": [
    "<div class=\"alert alert-warning\">\n",
    "    \n",
    "Observa que las unidades del esfuerzo (sigma) son de fuerza/área, en este caso son de kN/mm2.\n",
    "    \n",
    "Nota que la deformación unitaria (epsilon) es adimensional, es decir, sin unidades, pues se consigue al dividir dos longitudes.\n",
    "    \n",
    "</div>"
   ]
  },
  {
   "cell_type": "markdown",
   "metadata": {},
   "source": [
    "## Ahora consideremos varias cargas aplicadas"
   ]
  },
  {
   "cell_type": "markdown",
   "metadata": {},
   "source": [
    "Ingresemos varios valores de carga P:"
   ]
  },
  {
   "cell_type": "code",
   "execution_count": null,
   "metadata": {},
   "outputs": [],
   "source": [
    "Ps=[15, 35, 45, 100]"
   ]
  },
  {
   "cell_type": "markdown",
   "metadata": {},
   "source": [
    "Cálculo del desplazamiento para los valores de Ps"
   ]
  },
  {
   "cell_type": "code",
   "execution_count": null,
   "metadata": {},
   "outputs": [],
   "source": [
    "Ds = [] # Acá se almacenaran los desplazamientos\n",
    "for i in range(len(Ps)):\n",
    "    d = Ps[i]*L/(A*E)\n",
    "    Ds.append(d)\n",
    "print(D)"
   ]
  },
  {
   "cell_type": "markdown",
   "metadata": {},
   "source": [
    "Cálculo de los esfuerzos cuando se aplican las cargas Ps"
   ]
  },
  {
   "cell_type": "code",
   "execution_count": null,
   "metadata": {},
   "outputs": [],
   "source": [
    "sigmas = [] # Acá se almacenaran los esfuerzos\n",
    "for i in range(len(Ps)):\n",
    "    s = Ps[i]/A\n",
    "    sigmas.append(s)\n",
    "print(sigmas)"
   ]
  },
  {
   "cell_type": "markdown",
   "metadata": {},
   "source": [
    "Cálculo de las deformaciones unitarias cuando se aplican las cargas Ps"
   ]
  },
  {
   "cell_type": "code",
   "execution_count": null,
   "metadata": {},
   "outputs": [],
   "source": [
    "epsilons = [] # Acá se almacenaran las deformaciones unitarias\n",
    "for i in range(len(Ps)):\n",
    "    e = Ds[i]/L\n",
    "    epsilons.append(e)\n",
    "print(epsilons)"
   ]
  },
  {
   "cell_type": "markdown",
   "metadata": {},
   "source": [
    "*Ahora grafiquemos las cargas (P) contra el desplazamiento (D) y los esfurzos (sigma) contra la deformación unitaria (epsilon).*\n",
    "\n",
    "Es decir, \n",
    "\n",
    "Para P vs. D, en el eje *x* colocamos los desplazamientos y en el eje *y* las cargas\n",
    "\n",
    "Para sigma vs. epsilon, en el eje *x* colocamos las deformaciones unitarias y en el eje *y* los esfuerzos"
   ]
  },
  {
   "cell_type": "code",
   "execution_count": null,
   "metadata": {},
   "outputs": [],
   "source": [
    "fig, (ax1, ax2) = plt.subplots(1,2)\n",
    "ax1.plot(Ds,Ps,'o-') \n",
    "ax1.set(xlabel='Desplazamiento [mm]', ylabel='Fuerza en [kN]')\n",
    "ax2.plot(epsilons,sigmas,'o-')\n",
    "ax2.set(xlabel='Deformación unitaria [mm/mm]', ylabel='Esfuerzo en [kN/mm2]')\n",
    "fig.tight_layout()"
   ]
  },
  {
   "cell_type": "markdown",
   "metadata": {},
   "source": [
    "<div class=\"alert alert-warning\">\n",
    "    \n",
    "¿Qué tipo de relación observas?  \n",
    "    \n",
    "</div>"
   ]
  },
  {
   "cell_type": "markdown",
   "metadata": {},
   "source": [
    "<div class=\"alert alert-warning\">\n",
    "    \n",
    "Ahora considera los siguientes materiales\n",
    "\n",
    "1) Aluminio\\\n",
    "2) Madera\\\n",
    "3) Concreto\\\n",
    "4) Uno de tu elección\n",
    "    \n",
    "Manten la longitud y el área y calcula el desplazamiento. \n",
    "    \n",
    "    NOTA: Este Notebook se puede acompañar de un taller donde se les pidan varios cálculos cambiando longitudes, áreas, etc. y gráficas que realicen con el Notebook. Esto pude ser un seguimiento.\n",
    "    \n",
    "    \n",
    "</div>"
   ]
  },
  {
   "cell_type": "code",
   "execution_count": null,
   "metadata": {},
   "outputs": [],
   "source": []
  }
 ],
 "metadata": {
  "kernelspec": {
   "display_name": "Python 3",
   "language": "python",
   "name": "python3"
  },
  "language_info": {
   "codemirror_mode": {
    "name": "ipython",
    "version": 3
   },
   "file_extension": ".py",
   "mimetype": "text/x-python",
   "name": "python",
   "nbconvert_exporter": "python",
   "pygments_lexer": "ipython3",
   "version": "3.8.5"
  }
 },
 "nbformat": 4,
 "nbformat_minor": 4
}
